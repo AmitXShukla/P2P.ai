{
 "cells": [
  {
   "cell_type": "markdown",
   "metadata": {},
   "source": [
    "#### This Jupyter notebook is used to create Finance, Supplychain and other Tiger Graph Analytics sample data"
   ]
  },
  {
   "cell_type": "markdown",
   "metadata": {},
   "source": [
    "sample data created in this notebook does not use any properitery/license data, however, most of the examples/samples generated use all availabel free data like UNSPSC, GTIN, ITEM and VENDOR MASTER etc."
   ]
  },
  {
   "cell_type": "code",
   "execution_count": 7,
   "metadata": {},
   "outputs": [],
   "source": [
    "using DataFrames, CSV, Dates"
   ]
  },
  {
   "cell_type": "code",
   "execution_count": 6,
   "metadata": {},
   "outputs": [
    {
     "data": {
      "text/plain": [
       "\"galaxy.csv\""
      ]
     },
     "execution_count": 6,
     "metadata": {},
     "output_type": "execute_result"
    }
   ],
   "source": [
    "galaxy = DataFrame(\n",
    "    unit = \"Sun\",\n",
    "    star = true,\n",
    "    gas=true,\n",
    "    dust=true,\n",
    "    breathableAir=false;\n",
    "    water=false,\n",
    "    land=false,\n",
    "    sky=false\n",
    "    )\n",
    "push!(galaxy, [\"Earth\", false, true, true, true, true, true, true])\n",
    "push!(galaxy, [\"Jupiter\", false, true, true, false, false, true, true])\n",
    "push!(galaxy, [\"Saturn\", false, true, true, false, false, true, true])\n",
    "push!(galaxy, [\"Mars\", false, true, true, false, false, true, true])\n",
    "push!(galaxy, [\"Mercury\", false, true, true, false, false, true, true])\n",
    "push!(galaxy, [\"Uranus\", false, true, true, false, false, true, true])\n",
    "push!(galaxy, [\"Venus\", false, true, true, false, false, true, true])\n",
    "\n",
    "CSV.write(\"galaxy.csv\", galaxy)"
   ]
  },
  {
   "cell_type": "code",
   "execution_count": 19,
   "metadata": {},
   "outputs": [
    {
     "data": {
      "text/plain": [
       "\"species.csv\""
      ]
     },
     "execution_count": 19,
     "metadata": {},
     "output_type": "execute_result"
    }
   ],
   "source": [
    "species = DataFrame(\n",
    "    unit = \"Dinosaur\",\n",
    "    intelligence = true,\n",
    "    crawl = 7,\n",
    "    swim = 0,\n",
    "    walk = 7,\n",
    "    runningSpeed = 7,\n",
    "    eat = 9,\n",
    "    drink = 3,\n",
    "    sleep = 6\n",
    "    )\n",
    "push!(species, [\"Mammoth\", true, 9, 3, 6, 5, 8, 2, 8])\n",
    "push!(species, [\"Birds\", true, 0, 0, 0, 9, 1, 1, 2])\n",
    "push!(species, [\"BigFoot\", true, 7, 7, 7, 7, 8, 2, 8])\n",
    "push!(species, [\"Cockroach\", false, 0, 0, 0, 10, 1, 1, 1])\n",
    "push!(species, [\"Human\", false, 9, 1, 1, 1, 9, 10, 9])\n",
    "\n",
    "CSV.write(\"species.csv\", species)"
   ]
  },
  {
   "cell_type": "code",
   "execution_count": 18,
   "metadata": {},
   "outputs": [
    {
     "data": {
      "text/plain": [
       "\"itemmaster.csv\""
      ]
     },
     "execution_count": 18,
     "metadata": {},
     "output_type": "execute_result"
    }
   ],
   "source": [
    "itemmaster = DataFrame(\n",
    "    unit = [\"ToiletPaper\",\n",
    "    \"Vacuum\",\"Bucket\",\"Rags or chamois mop\",\"dishwashing soap\",\"All-purpose cleaner\",\"Scrubbing sponges\",\"Baking soda\",\"White vinegar\",\"lemons\"\n",
    "    ],\n",
    "    drug = false,\n",
    "    category = \"Cleaning Supplies\",\n",
    "    essentials = true,\n",
    "    luxury = false\n",
    "    )\n",
    "push!(itemmaster, [\"Adenosine\",true,\"Rx\",true,false])\n",
    "push!(itemmaster, [\"Atropine \",true,\"Rx\",true,false])\n",
    "push!(itemmaster, [\"Calcium gluconate\",true,\"Rx\",true,false])\n",
    "push!(itemmaster, [\"Dextrose 10%\",true,\"Rx\",true,false])\n",
    "push!(itemmaster, [\"Dopamine\",true,\"Rx\",true,false])\n",
    "push!(itemmaster, [\"Epinephrine 1 : 10,000\",true,\"Rx\",true,false])\n",
    "push!(itemmaster, [\"Fentanyl\",true,\"Rx\",true,false])\n",
    "push!(itemmaster, [\"Hydralazine\",true,\"Rx\",true,false])\n",
    "push!(itemmaster, [\"Lorazepam\",true,\"Rx\",true,false])\n",
    "push!(itemmaster, [\"Morphine\",true,\"Rx\",true,false])\n",
    "push!(itemmaster, [\"Naloxone\",true,\"Rx\",true,false])\n",
    "push!(itemmaster, [\"Phenobarbital\",true,\"Rx\",true,false])\n",
    "push!(itemmaster, [\"Sodium Bicarbonate\",true,\"Rx\",true,false])\n",
    "push!(itemmaster, [\"Vecuronium\",true,\"Rx\",true,false])\n",
    "push!(itemmaster, [\"Volume Expanders RBCs, NS\",true,\"Rx\",true,false])\n",
    "\n",
    "push!(itemmaster, [\"sodium nitrite\",true,\"Rx\",true,false])\n",
    "push!(itemmaster, [\"sodium nitroprusside\",true,\"Rx\",true,false])\n",
    "push!(itemmaster, [\"sodium thiosulfate\",true,\"Rx\",true,false])\n",
    "push!(itemmaster, [\"sodium valproate\",true,\"Rx\",true,false])\n",
    "push!(itemmaster, [\"spectinomycin\",true,\"Rx\",true,false])\n",
    "push!(itemmaster, [\"spironolactone\",true,\"Rx\",true,false])\n",
    "push!(itemmaster, [\"stavudine\",true,\"Rx\",true,false])\n",
    "push!(itemmaster, [\"streptokinase\",true,\"Rx\",true,false])\n",
    "push!(itemmaster, [\"streptomycin\",true,\"Rx\",true,false])\n",
    "push!(itemmaster, [\"sulfadiazine\",true,\"Rx\",true,false])\n",
    "push!(itemmaster, [\"sulfadoxine\",true,\"Rx\",true,false])\n",
    "push!(itemmaster, [\"sulfadoxine + pyrimethamine\",true,\"Rx\",true,false])\n",
    "push!(itemmaster, [\"sulfamethoxazole\",true,\"Rx\",true,false])\n",
    "push!(itemmaster, [\"trimethoprim\",true,\"Rx\",true,false])\n",
    "push!(itemmaster, [\"tamoxifen\",true,\"Rx\",true,false])\n",
    "push!(itemmaster, [\"testosterone\",true,\"Rx\",true,false])\n",
    "\n",
    "CSV.write(\"itemmaster.csv\", itemmaster)"
   ]
  },
  {
   "cell_type": "code",
   "execution_count": null,
   "metadata": {},
   "outputs": [],
   "source": []
  }
 ],
 "metadata": {
  "interpreter": {
   "hash": "916dbcbb3f70747c44a77c7bcd40155683ae19c65e1c03b4aa3499c5328201f1"
  },
  "kernelspec": {
   "display_name": "Julia (4 threads) 1.7.0",
   "language": "julia",
   "name": "julia-(4-threads)-1.7"
  },
  "language_info": {
   "file_extension": ".jl",
   "mimetype": "application/julia",
   "name": "julia",
   "version": "1.7.0"
  },
  "orig_nbformat": 4
 },
 "nbformat": 4,
 "nbformat_minor": 2
}
